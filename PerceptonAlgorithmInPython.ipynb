{
 "cells": [
  {
   "cell_type": "code",
   "execution_count": 51,
   "metadata": {},
   "outputs": [],
   "source": [
    "\n",
    "# coding: utf-8\n",
    "\n",
    "# In[1]:\n",
    "\n",
    "import csv\n",
    "import random \n",
    "\n",
    "\n",
    "def changevalue(myList = [], *args):\n",
    "    for x in myList:\n",
    "        if(x is 'R'):\n",
    "            x='1'\n",
    "        if(x is 'M'):\n",
    "            x='0'\n",
    "\n",
    "def initialiseweights(lengthofweights):\n",
    "    weightslist = [];\n",
    "    num = 0;\n",
    "    for i in range(lengthofweights):\n",
    "        weightslist.insert(num,random.uniform(0,1))\n",
    "        num = num + 1;\n",
    "    return weightslist;\n",
    "\n",
    "def splitdataintrainingandtesting():\n",
    "    dataset = [];\n",
    "    trainset = [];\n",
    "    testset = [];\n",
    "    val = 0;\n",
    "    with open(\"sonar.csv\", \"rt\") as f:\n",
    "        reader = csv.reader(f);\n",
    "        for row in reader:\n",
    "            dataset.append(row);\n",
    "        count = len(dataset);\n",
    "        for data in dataset:\n",
    "            val = val + 1;\n",
    "            if(val%3!=0 and val <= count):\n",
    "                trainset.append(data);\n",
    "            elif(val%3==0 and val <= count):\n",
    "                testset.append(data);\n",
    "    return trainset,testset;\n",
    "    \n",
    "def calculateweightvector():\n",
    "        train,test = splitdataintrainingandtesting();\n",
    "        lengthofweights = len(train[0]);\n",
    "        weights = initialiseweights(lengthofweights-1);\n",
    "        alpha = random.uniform(0,1);\n",
    "        bias = 0;\n",
    "        globalerror = 0;\n",
    "        iterations = 0;\n",
    "        noofiterations = 1000;\n",
    "        while(globalerror > 0 and iterations < noofiterations):\n",
    "            iterations = iterations + 1;\n",
    "            for row in train:\n",
    "                if(row[-1] is 'R'):\n",
    "                    row[-1]=0\n",
    "                if(row[-1] is 'M'):\n",
    "                    row[-1]=1\n",
    "                x = map(float,row[0:lengthofweights-1]);\n",
    "                activation = sum([a*b for a,b in zip(weights,x)]) + bias;\n",
    "                prediction = 1.0 if activation >= 0.0 else 0.0;\n",
    "                error = row[lengthofweights-1,lengthofweights] - prediction;\n",
    "                globalerror = globalerror + error**2;\n",
    "                bias = bias + alpha*error;\n",
    "                for i in range(lengthofweights):\n",
    "                    weights[i] = weights[i] + alpha*x[i]*error;\n",
    "        return weights,test,bias;  \n",
    "\n",
    "def calculatepredictionfortestset():\n",
    "    correct = 0;\n",
    "    weightvector,testdata,biasvalue = calculateweightvector();\n",
    "    total = len(testdata);\n",
    "    for row in testdata:\n",
    "        if(row[-1] is 'R'):\n",
    "            row[-1]=0\n",
    "        if(row[-1] is 'M'):\n",
    "            row[-1]=1\n",
    "        x = map(float,row[0:len(weightvector)]);\n",
    "        activation = sum([a*b for a,b in zip(weightvector,x)]) + biasvalue;\n",
    "        prediction = 1.0 if activation >= 0.0 else 0.0;\n",
    "        if(prediction == row[-1]):\n",
    "            correct=correct+1;\n",
    "    accuracy = (correct*100)/total;\n",
    "    print(accuracy);\n",
    "\n",
    "\n",
    "\n",
    "\n",
    "\n",
    "\n",
    "\n",
    "\n"
   ]
  },
  {
   "cell_type": "code",
   "execution_count": 52,
   "metadata": {},
   "outputs": [
    {
     "name": "stdout",
     "output_type": "stream",
     "text": [
      "53.6231884057971\n"
     ]
    }
   ],
   "source": [
    "calculatepredictionfortestset()"
   ]
  },
  {
   "cell_type": "code",
   "execution_count": null,
   "metadata": {
    "collapsed": true
   },
   "outputs": [],
   "source": [
    "https://machinelearningmastery.com/implement-perceptron-algorithm-scratch-python/"
   ]
  }
 ],
 "metadata": {
  "kernelspec": {
   "display_name": "Python 3",
   "language": "python",
   "name": "python3"
  },
  "language_info": {
   "codemirror_mode": {
    "name": "ipython",
    "version": 3
   },
   "file_extension": ".py",
   "mimetype": "text/x-python",
   "name": "python",
   "nbconvert_exporter": "python",
   "pygments_lexer": "ipython3",
   "version": "3.6.1"
  }
 },
 "nbformat": 4,
 "nbformat_minor": 2
}
